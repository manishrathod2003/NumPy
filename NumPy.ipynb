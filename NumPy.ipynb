{
  "nbformat": 4,
  "nbformat_minor": 0,
  "metadata": {
    "colab": {
      "provenance": [],
      "authorship_tag": "ABX9TyNiJil2aivTGMZoAFm4FJbu",
      "include_colab_link": true
    },
    "kernelspec": {
      "name": "python3",
      "display_name": "Python 3"
    },
    "language_info": {
      "name": "python"
    }
  },
  "cells": [
    {
      "cell_type": "markdown",
      "metadata": {
        "id": "view-in-github",
        "colab_type": "text"
      },
      "source": [
        "<a href=\"https://colab.research.google.com/github/manishrathod2003/NumPy/blob/main/NumPy.ipynb\" target=\"_parent\"><img src=\"https://colab.research.google.com/assets/colab-badge.svg\" alt=\"Open In Colab\"/></a>"
      ]
    },
    {
      "cell_type": "markdown",
      "source": [
        "# Basic NumPy Operations\n"
      ],
      "metadata": {
        "id": "7fNU-G2Tmj_j"
      }
    },
    {
      "cell_type": "markdown",
      "source": [
        "1. Write a NumPy program to create a 1D array from a list [1, 2, 3, 4, 5]."
      ],
      "metadata": {
        "id": "Zg-u2Es7h437"
      }
    },
    {
      "cell_type": "code",
      "source": [
        "import numpy as np\n",
        "arr = np.array([1, 2, 3, 4, 5])\n",
        "print(arr)"
      ],
      "metadata": {
        "colab": {
          "base_uri": "https://localhost:8080/"
        },
        "id": "aloRrxdNiE5x",
        "outputId": "9e1fb4d3-285c-4198-b02f-0e3ff2bfea6d"
      },
      "execution_count": 1,
      "outputs": [
        {
          "output_type": "stream",
          "name": "stdout",
          "text": [
            "[1 2 3 4 5]\n"
          ]
        }
      ]
    },
    {
      "cell_type": "markdown",
      "source": [
        "2. Create a NumPy array of shape (3, 3) filled with zeros.\n"
      ],
      "metadata": {
        "id": "91UFTiCFiUNk"
      }
    },
    {
      "cell_type": "code",
      "source": [
        "zeros = np.zeros((3, 3))\n",
        "print(zeros)"
      ],
      "metadata": {
        "colab": {
          "base_uri": "https://localhost:8080/"
        },
        "id": "GXd77QcwiZLZ",
        "outputId": "ff058f30-5476-458d-bc6d-89aba3028b0e"
      },
      "execution_count": 2,
      "outputs": [
        {
          "output_type": "stream",
          "name": "stdout",
          "text": [
            "[[0. 0. 0.]\n",
            " [0. 0. 0.]\n",
            " [0. 0. 0.]]\n"
          ]
        }
      ]
    },
    {
      "cell_type": "markdown",
      "source": [
        "3. Create a NumPy array of shape (2, 4) filled with ones.\n"
      ],
      "metadata": {
        "id": "DkRvkCymihwi"
      }
    },
    {
      "cell_type": "code",
      "source": [
        "ones = np.ones((2, 4))\n",
        "print(ones)"
      ],
      "metadata": {
        "colab": {
          "base_uri": "https://localhost:8080/"
        },
        "id": "-wGxZvvDimHR",
        "outputId": "6765b07e-3275-4e08-cdf9-55b8b1b101ef"
      },
      "execution_count": 3,
      "outputs": [
        {
          "output_type": "stream",
          "name": "stdout",
          "text": [
            "[[1. 1. 1. 1.]\n",
            " [1. 1. 1. 1.]]\n"
          ]
        }
      ]
    },
    {
      "cell_type": "markdown",
      "source": [
        "4. Generate an array of numbers from 10 to 50 with a step of 5.\n"
      ],
      "metadata": {
        "id": "jirM8C-tkR_3"
      }
    },
    {
      "cell_type": "code",
      "source": [
        "arr = np.arange(10, 51, 5)\n",
        "print(arr)\n"
      ],
      "metadata": {
        "colab": {
          "base_uri": "https://localhost:8080/"
        },
        "id": "eZleMMNIkU1x",
        "outputId": "d07e7281-a0ac-4463-8d26-7b4982b812ee"
      },
      "execution_count": 4,
      "outputs": [
        {
          "output_type": "stream",
          "name": "stdout",
          "text": [
            "[10 15 20 25 30 35 40 45 50]\n"
          ]
        }
      ]
    },
    {
      "cell_type": "markdown",
      "source": [
        "5. Create an array of 10 evenly spaced values between 0 and 1."
      ],
      "metadata": {
        "id": "NfAa2AuvkpZI"
      }
    },
    {
      "cell_type": "code",
      "source": [
        "arr = np.linspace(0, 1, 10)\n",
        "print(arr)\n"
      ],
      "metadata": {
        "colab": {
          "base_uri": "https://localhost:8080/"
        },
        "id": "dVEzAWRhkqkW",
        "outputId": "21c9d9c9-4862-4d19-8817-d232a07348f0"
      },
      "execution_count": 5,
      "outputs": [
        {
          "output_type": "stream",
          "name": "stdout",
          "text": [
            "[0.         0.11111111 0.22222222 0.33333333 0.44444444 0.55555556\n",
            " 0.66666667 0.77777778 0.88888889 1.        ]\n"
          ]
        }
      ]
    },
    {
      "cell_type": "markdown",
      "source": [
        "6. Generate a 5x5 identity matrix\n"
      ],
      "metadata": {
        "id": "q6RUZUY3lAUT"
      }
    },
    {
      "cell_type": "code",
      "source": [
        "identity_matrix = np.eye(5)\n",
        "print(identity_matrix)"
      ],
      "metadata": {
        "colab": {
          "base_uri": "https://localhost:8080/"
        },
        "id": "zgiu5NvYlBUV",
        "outputId": "b15880c7-360b-4680-d661-5a1b3c3b0b09"
      },
      "execution_count": 17,
      "outputs": [
        {
          "output_type": "stream",
          "name": "stdout",
          "text": [
            "[[1. 0. 0. 0. 0.]\n",
            " [0. 1. 0. 0. 0.]\n",
            " [0. 0. 1. 0. 0.]\n",
            " [0. 0. 0. 1. 0.]\n",
            " [0. 0. 0. 0. 1.]]\n"
          ]
        }
      ]
    },
    {
      "cell_type": "markdown",
      "source": [
        "7. Create an array of shape (3,3) with random values between 0 and 1."
      ],
      "metadata": {
        "id": "ykfxUmE7lMDO"
      }
    },
    {
      "cell_type": "code",
      "source": [
        "random_matrix = np.random.rand(3, 3)\n",
        "print(random_matrix)\n"
      ],
      "metadata": {
        "colab": {
          "base_uri": "https://localhost:8080/"
        },
        "id": "yyj02JTnlSC2",
        "outputId": "a66b65f1-3c77-4d06-a3dd-d224521f17a5"
      },
      "execution_count": 8,
      "outputs": [
        {
          "output_type": "stream",
          "name": "stdout",
          "text": [
            "[[0.88175594 0.91158627 0.93564792]\n",
            " [0.70591502 0.74419306 0.60432306]\n",
            " [0.21259654 0.78636646 0.60902245]]\n"
          ]
        }
      ]
    },
    {
      "cell_type": "markdown",
      "source": [
        "8. Convert a Python list [10, 20, 30] into a NumPy array and print its type.\n"
      ],
      "metadata": {
        "id": "gapN1x_7lXsk"
      }
    },
    {
      "cell_type": "code",
      "source": [
        "list = [10, 20, 30]\n",
        "arr = np.array(list)\n",
        "print(type(arr))\n"
      ],
      "metadata": {
        "colab": {
          "base_uri": "https://localhost:8080/"
        },
        "id": "zFPopKZfle75",
        "outputId": "afe55e59-dafa-4fe5-e5f3-c86fef32ba1a"
      },
      "execution_count": 16,
      "outputs": [
        {
          "output_type": "stream",
          "name": "stdout",
          "text": [
            "<class 'numpy.ndarray'>\n"
          ]
        }
      ]
    },
    {
      "cell_type": "markdown",
      "source": [
        "9. Create an array of 10 random integers between 1 and 100."
      ],
      "metadata": {
        "id": "ylL8CC7wlrwg"
      }
    },
    {
      "cell_type": "code",
      "source": [
        "random_integers = np.random.randint(1, 101, 10)\n",
        "print(random_integers)\n"
      ],
      "metadata": {
        "colab": {
          "base_uri": "https://localhost:8080/"
        },
        "id": "nnUMgYD7lw5Y",
        "outputId": "d270139f-7f99-4003-a1bb-acd0b4ae3be0"
      },
      "execution_count": 15,
      "outputs": [
        {
          "output_type": "stream",
          "name": "stdout",
          "text": [
            "[ 44  23  26  40  74  28 100  21  82  53]\n"
          ]
        }
      ]
    },
    {
      "cell_type": "markdown",
      "source": [
        "10. Generate a 4x4 array with random floating-point numbers"
      ],
      "metadata": {
        "id": "HVCL7mNAl0jJ"
      }
    },
    {
      "cell_type": "code",
      "source": [
        "random_floats = np.random.random((4, 4))\n",
        "print(random_floats)\n"
      ],
      "metadata": {
        "colab": {
          "base_uri": "https://localhost:8080/"
        },
        "id": "_L7Hpkezl41H",
        "outputId": "17d35a1f-6b03-43af-c3fe-c065b2e55a64"
      },
      "execution_count": 14,
      "outputs": [
        {
          "output_type": "stream",
          "name": "stdout",
          "text": [
            "[[0.11674898 0.48635312 0.87494858 0.76300823]\n",
            " [0.25629553 0.10659471 0.41904086 0.79626011]\n",
            " [0.81312838 0.30482244 0.81037752 0.69482892]\n",
            " [0.14758637 0.75081428 0.10313977 0.57929889]]\n"
          ]
        }
      ]
    }
  ]
}