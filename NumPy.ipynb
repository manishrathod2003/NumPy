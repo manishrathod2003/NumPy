{
  "nbformat": 4,
  "nbformat_minor": 0,
  "metadata": {
    "colab": {
      "provenance": [],
      "authorship_tag": "ABX9TyMIWoRJcD1RBzhxfy4nnIxl",
      "include_colab_link": true
    },
    "kernelspec": {
      "name": "python3",
      "display_name": "Python 3"
    },
    "language_info": {
      "name": "python"
    }
  },
  "cells": [
    {
      "cell_type": "markdown",
      "metadata": {
        "id": "view-in-github",
        "colab_type": "text"
      },
      "source": [
        "<a href=\"https://colab.research.google.com/github/manishrathod2003/NumPy/blob/main/NumPy.ipynb\" target=\"_parent\"><img src=\"https://colab.research.google.com/assets/colab-badge.svg\" alt=\"Open In Colab\"/></a>"
      ]
    },
    {
      "cell_type": "markdown",
      "source": [
        "1. Write a NumPy program to create a 1D array from a list [1, 2, 3, 4, 5]."
      ],
      "metadata": {
        "id": "Zg-u2Es7h437"
      }
    },
    {
      "cell_type": "code",
      "source": [
        "import numpy as np\n",
        "arr = np.array([1, 2, 3, 4, 5])\n",
        "print(arr)"
      ],
      "metadata": {
        "colab": {
          "base_uri": "https://localhost:8080/"
        },
        "id": "aloRrxdNiE5x",
        "outputId": "9e1fb4d3-285c-4198-b02f-0e3ff2bfea6d"
      },
      "execution_count": 1,
      "outputs": [
        {
          "output_type": "stream",
          "name": "stdout",
          "text": [
            "[1 2 3 4 5]\n"
          ]
        }
      ]
    },
    {
      "cell_type": "markdown",
      "source": [
        "2. Create a NumPy array of shape (3, 3) filled with zeros.\n"
      ],
      "metadata": {
        "id": "91UFTiCFiUNk"
      }
    },
    {
      "cell_type": "code",
      "source": [
        "zeros = np.zeros((3, 3))\n",
        "print(zeros)"
      ],
      "metadata": {
        "colab": {
          "base_uri": "https://localhost:8080/"
        },
        "id": "GXd77QcwiZLZ",
        "outputId": "ff058f30-5476-458d-bc6d-89aba3028b0e"
      },
      "execution_count": 2,
      "outputs": [
        {
          "output_type": "stream",
          "name": "stdout",
          "text": [
            "[[0. 0. 0.]\n",
            " [0. 0. 0.]\n",
            " [0. 0. 0.]]\n"
          ]
        }
      ]
    },
    {
      "cell_type": "markdown",
      "source": [
        "3. Create a NumPy array of shape (2, 4) filled with ones.\n"
      ],
      "metadata": {
        "id": "DkRvkCymihwi"
      }
    },
    {
      "cell_type": "code",
      "source": [
        "ones = np.ones((2, 4))\n",
        "print(ones)"
      ],
      "metadata": {
        "colab": {
          "base_uri": "https://localhost:8080/"
        },
        "id": "-wGxZvvDimHR",
        "outputId": "6765b07e-3275-4e08-cdf9-55b8b1b101ef"
      },
      "execution_count": 3,
      "outputs": [
        {
          "output_type": "stream",
          "name": "stdout",
          "text": [
            "[[1. 1. 1. 1.]\n",
            " [1. 1. 1. 1.]]\n"
          ]
        }
      ]
    }
  ]
}